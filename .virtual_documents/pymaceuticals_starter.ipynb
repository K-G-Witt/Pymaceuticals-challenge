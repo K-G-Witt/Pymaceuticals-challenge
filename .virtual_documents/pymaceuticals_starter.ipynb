


# Dependencies and Setup
%matplotlib widget
import matplotlib.pyplot as plt
import pandas as pd
import scipy.stats as st
import numpy as np

# Study data files
mouse_metadata_path = "data/Mouse_metadata.csv"
study_results_path = "data/Study_results.csv"

# Read the mouse data and the study results
mouse_metadata = pd.read_csv(mouse_metadata_path)
study_results = pd.read_csv(study_results_path)

# Combine the data into a single DataFrame
merged_mice_results = pd.merge(mouse_metadata, study_results, on="Mouse ID", how="outer")

# Display the data table for preview
merged_mice_results.head()


# Checking the number of mice.
tot_mice = len(merged_mice_results["Mouse ID"].unique())
print(tot_mice)


# Our data should be uniquely identified by Mouse ID and Timepoint
# Get the duplicate mice by ID number that shows up for Mouse ID and Timepoint. 
duplicate_rows = merged_mice_results[merged_mice_results.duplicated(subset=['Mouse ID', 'Timepoint'], keep=False)]


# Optional: Get all the data for the duplicate mouse ID. 
duplicate_mouse_data = merged_mice_results[merged_mice_results['Mouse ID'].isin(duplicate_rows['Mouse ID'])]
duplicate_mouse_data


# Create a clean DataFrame by dropping the duplicate mouse by its ID.
unique_mice_data = merged_mice_results[~merged_mice_results["Mouse ID"].isin(duplicate_rows["Mouse ID"])]



# Checking the number of mice in the clean DataFrame.
tot_mice_unique = len(unique_mice_data["Mouse ID"].unique())
print(tot_mice_unique)






# Generate a summary statistics table of mean, median, variance, standard deviation, and SEM of the tumor volume for each regimen

# Use groupby and summary statistical methods to calculate the following properties of each drug regimen: 
# mean, median, variance, standard deviation, and SEM of the tumor volume. 
mean = unique_mice_data.groupby("Drug Regimen")["Tumor Volume (mm3)"].mean()
median = unique_mice_data.groupby("Drug Regimen")["Tumor Volume (mm3)"].median()
var = unique_mice_data.groupby("Drug Regimen")["Tumor Volume (mm3)"].var()
std = unique_mice_data.groupby("Drug Regimen")["Tumor Volume (mm3)"].std()
sem = unique_mice_data.groupby("Drug Regimen")["Tumor Volume (mm3)"].sem()

# Assemble the resulting series into a single summary DataFrame.
summary_stats_one = pd.DataFrame({"mean" : mean, "median": median, "var": var, "std" : std, "sem": sem})
summary_stats_one


# A more advanced method to generate a summary statistics table of mean, median, variance, standard deviation,
# and SEM of the tumor volume for each regimen (only one method is required in the solution)

# Using the aggregation method, produce the same summary statistics in a single line
summary_stats_agg = unique_mice_data.groupby("Drug Regimen")["Tumor Volume (mm3)"].agg(["mean", "median", "var", "std", "sem"])
summary_stats_two = pd.DataFrame(summary_stats_agg)
summary_stats_two





# Generate a bar plot showing the total number of rows (Mouse ID/Timepoints) for each drug regimen using Pandas.
mice_per_treatment = unique_mice_data.groupby("Drug Regimen")["Mouse ID"].count()

plt.figure()
pandas_bar_chart = mice_per_treatment.plot(kind="bar", color="red", alpha=.5, title="Total Number of Mice Per Treatment Arm", xlabel="Treatment Arm", ylabel="Total Number of Mice")
plt.tight_layout()
plt.savefig("images/Mice Per Treatment Arm - PANDAS PLOT.png")


# Generate a bar plot showing the total number of rows (Mouse ID/Timepoints) for each drug regimen using pyplot.
treatment_arms = mice_per_treatment.index
tick_locations = np.arange(len(mice_per_treatment))

plt.figure()
plt.bar(tick_locations, mice_per_treatment.values, color="red", alpha=0.5, align="center")
plt.xticks(tick_locations, treatment_arms, rotation='vertical')
plt.xlim(-0.75, len(tick_locations)-0.25)
plt.ylim(0, max(mice_per_treatment.values) + 10)
plt.title("Total Number of Mice Per Treatment Arm")
plt.xlabel("Treatment Arm")
plt.ylabel("Total Number of Mice")
plt.tight_layout()
plt.savefig("images/Mice Per Treatment Arm - PYPLOT.png")
plt.show()


# Generate a pie plot showing the distribution of female versus male mice using Pandas
mice_sex = unique_mice_data["Sex"].value_counts()

plt.figure()
mice_sex.plot(kind="pie", autopct="%1.1f%%", startangle=140, colors=["blue", "red"], shadow=False, explode=(0.1, 0))
plt.title("Proportion of Male vs. Female Mice")
plt.ylabel(" ")
plt.axis("equal")
plt.savefig("images/Mice Sex - PANDAS.png")
plt.show()


# Generate a pie plot showing the distribution of female versus male mice using pyplot

plt.figure()
labels = mice_sex.index
colors = ["blue", "red"]
explode = (0.1, 0)
plt.pie(mice_sex, labels=labels, colors=colors, autopct="%1.1f%%", startangle=140, shadow=False, explode=explode)
plt.title("Proportion of Male vs. Female Mice")
plt.axis("equal")
plt.savefig("images/Mice Sex - PYPLOT.png")
plt.show()





# Calculate the final tumor volume of each mouse across four of the treatment regimens:  
# Capomulin, Ramicane, Infubinol, and Ceftamin

# Start by getting the last (greatest) timepoint for each mouse
last_obs_per_mouse = unique_mice_data.groupby("Mouse ID")
last_obs_per_mouse = last_obs_per_mouse["Timepoint"].max()
last_obs_per_mouse = pd.DataFrame(last_obs_per_mouse)

# Merge this group df with the original DataFrame to get the tumor volume at the last timepoint
merged_last_obs_per_mouse = pd.merge(last_obs_per_mouse, unique_mice_data, on=["Mouse ID", "Timepoint"])
merged_last_obs_per_mouse.head()



# Put treatments into a list for for loop (and later for plot labels)
treatment_arms_list = ["Ramicane", "Capomulin", "Infubinol", "Ceftamin"]

# Create empty lists to store tumor volume data subsets for each treatment arm
tumor_vol_data_per_treatment = {}

# Calculate the IQR and quantitatively determine if there are any potential outliers.
for treatment in treatment_arms_list:
    # Locate the rows which contain mice for the current treatment arm and get the tumor volumes
    tumor_vol = merged_last_obs_per_mouse.loc[merged_last_obs_per_mouse["Drug Regimen"] == treatment, "Tumor Volume (mm3)"]
    
    # Add the subset of tumor volume data to the corresponding list
    tumor_vol_data_per_treatment[treatment] = tumor_vol
    
    # Calculate quartiles and IQR
    quartiles = tumor_vol.quantile([.25, .5, .75])
    Q1 = quartiles[.25]
    median = quartiles[.5]
    Q3 = quartiles[.75]
    IQR = Q3 - Q1
    
    # Determine lower and upper bounds
    lower_bound = Q1 - (1.5 * IQR)
    upper_bound = Q3 + (1.5 * IQR)
    
    # Determine outliers using upper and lower bounds
    outliers = tumor_vol[(tumor_vol < lower_bound) | (tumor_vol > upper_bound)]
    
    # Print results
    print(f"--- {treatment} ---")
    print(f"IQR: {IQR:.2f}")
    print(f"Lower Bound: {lower_bound:.2f}")
    print(f"Upper Bound: {upper_bound:.2f}")
    print(f"Potential outliers: {outliers}\n")



# Generate a box plot that shows the distrubution of the tumor volume for each treatment group.






# Generate a line plot of tumor volume vs. time point for a single mouse treated with Capomulin



# Generate a scatter plot of mouse weight vs. the average observed tumor volume for the entire Capomulin regimen






# Calculate the correlation coefficient and a linear regression model 
# for mouse weight and average observed tumor volume for the entire Capomulin regimen




